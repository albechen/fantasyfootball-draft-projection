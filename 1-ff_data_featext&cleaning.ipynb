{
 "nbformat": 4,
 "nbformat_minor": 2,
 "metadata": {
  "language_info": {
   "name": "python",
   "codemirror_mode": {
    "name": "ipython",
    "version": 3
   },
   "version": "3.7.6-final"
  },
  "orig_nbformat": 2,
  "file_extension": ".py",
  "mimetype": "text/x-python",
  "name": "python",
  "npconvert_exporter": "python",
  "pygments_lexer": "ipython3",
  "version": 3,
  "kernelspec": {
   "name": "python37464bitbaseconda283db1cc85e247fb8163a5e3375dfbda",
   "display_name": "Python 3.7.4 64-bit ('base': conda)"
  }
 },
 "cells": [
  {
   "cell_type": "markdown",
   "metadata": {},
   "source": [
    "https://www.pro-football-reference.com/years/2000/fantasy.htm\n",
    "\n",
    "\n",
    "https://www.fantasypros.com/nfl/rankings/consensus-cheatsheets.php?loggedin"
   ],
   "execution_count": null,
   "outputs": []
  },
  {
   "cell_type": "code",
   "execution_count": 1,
   "metadata": {},
   "outputs": [],
   "source": [
    "import pandas as pd\n",
    "import numpy as np\n",
    "import re"
   ]
  },
  {
   "cell_type": "code",
   "execution_count": 2,
   "metadata": {},
   "outputs": [],
   "source": [
    "def combine_df(start_year, end_year, scrim_or_fantasy):\n",
    "    full_df = pd.DataFrame()\n",
    "    for year in range(start_year,end_year+1):\n",
    "        path = (\"data_raw/%s.xlsx\" % scrim_or_fantasy)\n",
    "        year_df = pd.read_excel(path, sheet_name=str(year))\n",
    "        year_df[\"Year\"] = year\n",
    "        full_df = pd.concat([full_df, year_df])\n",
    "    \n",
    "    dl_path = (\"data_output/%s_%s_%s.csv\" % (scrim_or_fantasy, start_year, end_year))\n",
    "    full_df.to_csv(dl_path)\n",
    "    \n",
    "    return full_df"
   ]
  },
  {
   "cell_type": "code",
   "execution_count": 3,
   "metadata": {},
   "outputs": [
    {
     "output_type": "execute_result",
     "data": {
      "text/plain": "  Rk            Player   Tm Age Pos   G  GS REC_Tgt REC_Rec REC_Yds  ...  \\\n0  1   Edgerrin James*  IND  22  RB  16  16      87      63     594  ...   \n1  2  Marshall Faulk*+  STL  27  RB  14  14     113      81     830  ...   \n2  3    Eddie George*+  TEN  27  RB  16  16      65      50     453  ...   \n3  4     Robert Smith*  MIN  28  RB  16  16      44      36     348  ...   \n4  5     Ricky Watters  SEA  31  rb  16  16      92      63     613  ...   \n\n  RSH_Lng RSH_Y_A RSH_Y_G RSH_A_G Total_Tch Y_Tch  YScm Total_TD Fmb  Year  \n0      30     4.4   106.8    24.2       450   5.1  2303       18   5  2000  \n1      36     5.4    97.1    18.1       334   6.6  2189       26   0  2000  \n2      35     3.7    94.3    25.2       453   4.3  1962       16   5  2000  \n3      72     5.2    95.1    18.4       331   5.6  1869       10   4  2000  \n4      55     4.5    77.6    17.4       341   5.4  1855        9   5  2000  \n\n[5 rows x 32 columns]",
      "text/html": "<div>\n<style scoped>\n    .dataframe tbody tr th:only-of-type {\n        vertical-align: middle;\n    }\n\n    .dataframe tbody tr th {\n        vertical-align: top;\n    }\n\n    .dataframe thead th {\n        text-align: right;\n    }\n</style>\n<table border=\"1\" class=\"dataframe\">\n  <thead>\n    <tr style=\"text-align: right;\">\n      <th></th>\n      <th>Rk</th>\n      <th>Player</th>\n      <th>Tm</th>\n      <th>Age</th>\n      <th>Pos</th>\n      <th>G</th>\n      <th>GS</th>\n      <th>REC_Tgt</th>\n      <th>REC_Rec</th>\n      <th>REC_Yds</th>\n      <th>...</th>\n      <th>RSH_Lng</th>\n      <th>RSH_Y_A</th>\n      <th>RSH_Y_G</th>\n      <th>RSH_A_G</th>\n      <th>Total_Tch</th>\n      <th>Y_Tch</th>\n      <th>YScm</th>\n      <th>Total_TD</th>\n      <th>Fmb</th>\n      <th>Year</th>\n    </tr>\n  </thead>\n  <tbody>\n    <tr>\n      <th>0</th>\n      <td>1</td>\n      <td>Edgerrin James*</td>\n      <td>IND</td>\n      <td>22</td>\n      <td>RB</td>\n      <td>16</td>\n      <td>16</td>\n      <td>87</td>\n      <td>63</td>\n      <td>594</td>\n      <td>...</td>\n      <td>30</td>\n      <td>4.4</td>\n      <td>106.8</td>\n      <td>24.2</td>\n      <td>450</td>\n      <td>5.1</td>\n      <td>2303</td>\n      <td>18</td>\n      <td>5</td>\n      <td>2000</td>\n    </tr>\n    <tr>\n      <th>1</th>\n      <td>2</td>\n      <td>Marshall Faulk*+</td>\n      <td>STL</td>\n      <td>27</td>\n      <td>RB</td>\n      <td>14</td>\n      <td>14</td>\n      <td>113</td>\n      <td>81</td>\n      <td>830</td>\n      <td>...</td>\n      <td>36</td>\n      <td>5.4</td>\n      <td>97.1</td>\n      <td>18.1</td>\n      <td>334</td>\n      <td>6.6</td>\n      <td>2189</td>\n      <td>26</td>\n      <td>0</td>\n      <td>2000</td>\n    </tr>\n    <tr>\n      <th>2</th>\n      <td>3</td>\n      <td>Eddie George*+</td>\n      <td>TEN</td>\n      <td>27</td>\n      <td>RB</td>\n      <td>16</td>\n      <td>16</td>\n      <td>65</td>\n      <td>50</td>\n      <td>453</td>\n      <td>...</td>\n      <td>35</td>\n      <td>3.7</td>\n      <td>94.3</td>\n      <td>25.2</td>\n      <td>453</td>\n      <td>4.3</td>\n      <td>1962</td>\n      <td>16</td>\n      <td>5</td>\n      <td>2000</td>\n    </tr>\n    <tr>\n      <th>3</th>\n      <td>4</td>\n      <td>Robert Smith*</td>\n      <td>MIN</td>\n      <td>28</td>\n      <td>RB</td>\n      <td>16</td>\n      <td>16</td>\n      <td>44</td>\n      <td>36</td>\n      <td>348</td>\n      <td>...</td>\n      <td>72</td>\n      <td>5.2</td>\n      <td>95.1</td>\n      <td>18.4</td>\n      <td>331</td>\n      <td>5.6</td>\n      <td>1869</td>\n      <td>10</td>\n      <td>4</td>\n      <td>2000</td>\n    </tr>\n    <tr>\n      <th>4</th>\n      <td>5</td>\n      <td>Ricky Watters</td>\n      <td>SEA</td>\n      <td>31</td>\n      <td>rb</td>\n      <td>16</td>\n      <td>16</td>\n      <td>92</td>\n      <td>63</td>\n      <td>613</td>\n      <td>...</td>\n      <td>55</td>\n      <td>4.5</td>\n      <td>77.6</td>\n      <td>17.4</td>\n      <td>341</td>\n      <td>5.4</td>\n      <td>1855</td>\n      <td>9</td>\n      <td>5</td>\n      <td>2000</td>\n    </tr>\n  </tbody>\n</table>\n<p>5 rows × 32 columns</p>\n</div>"
     },
     "metadata": {},
     "execution_count": 3
    }
   ],
   "source": [
    "scrimmage = combine_df(2000, 2019, \"scrimmage\")\n",
    "scrimmage.head()"
   ]
  },
  {
   "cell_type": "code",
   "execution_count": 4,
   "metadata": {},
   "outputs": [
    {
     "output_type": "execute_result",
     "data": {
      "text/plain": "  Rk             Player   Tm Position Age   G  GS Pass_Comp_G Pass_Att_G  \\\n0  1   Marshall Faulk*+  STL       RB  27  14  14           0          0   \n1  2    Edgerrin James*  IND       RB  22  16  16           0          0   \n2  3  Daunte Culpepper*  MIN       QB  23  16  16        18.6       29.6   \n3  4       Jeff Garcia*  SFO       QB  30  16  16        22.2       35.1   \n4  5     Eddie George*+  TEN       RB  27  16  16           0          0   \n\n  Pass_Yds_G  ... Total_2PM_G Total_2PP_G FantPt_G PPR_G DKPt_G FDPt_G VBD_G  \\\n0          0  ...        0.14         NaN     27.2  32.9  465.9     30  16.3   \n1          0  ...        0.06         NaN     21.3  24.7  405.3   22.7  11.8   \n2      246.1  ...         NaN        0.13     21.9  21.2  366.5   22.2  9.31   \n3      267.4  ...         NaN        0.06     21.4  21.3  357.5   21.9  8.81   \n4          0  ...         NaN         NaN     18.3  20.9  344.2   19.3  8.75   \n\n  PosRank_G OvRank_G  Year  \n0      0.07     0.07  2000  \n1      0.13     0.13  2000  \n2      0.06     0.19  2000  \n3      0.13     0.25  2000  \n4      0.19     0.31  2000  \n\n[5 rows x 34 columns]",
      "text/html": "<div>\n<style scoped>\n    .dataframe tbody tr th:only-of-type {\n        vertical-align: middle;\n    }\n\n    .dataframe tbody tr th {\n        vertical-align: top;\n    }\n\n    .dataframe thead th {\n        text-align: right;\n    }\n</style>\n<table border=\"1\" class=\"dataframe\">\n  <thead>\n    <tr style=\"text-align: right;\">\n      <th></th>\n      <th>Rk</th>\n      <th>Player</th>\n      <th>Tm</th>\n      <th>Position</th>\n      <th>Age</th>\n      <th>G</th>\n      <th>GS</th>\n      <th>Pass_Comp_G</th>\n      <th>Pass_Att_G</th>\n      <th>Pass_Yds_G</th>\n      <th>...</th>\n      <th>Total_2PM_G</th>\n      <th>Total_2PP_G</th>\n      <th>FantPt_G</th>\n      <th>PPR_G</th>\n      <th>DKPt_G</th>\n      <th>FDPt_G</th>\n      <th>VBD_G</th>\n      <th>PosRank_G</th>\n      <th>OvRank_G</th>\n      <th>Year</th>\n    </tr>\n  </thead>\n  <tbody>\n    <tr>\n      <th>0</th>\n      <td>1</td>\n      <td>Marshall Faulk*+</td>\n      <td>STL</td>\n      <td>RB</td>\n      <td>27</td>\n      <td>14</td>\n      <td>14</td>\n      <td>0</td>\n      <td>0</td>\n      <td>0</td>\n      <td>...</td>\n      <td>0.14</td>\n      <td>NaN</td>\n      <td>27.2</td>\n      <td>32.9</td>\n      <td>465.9</td>\n      <td>30</td>\n      <td>16.3</td>\n      <td>0.07</td>\n      <td>0.07</td>\n      <td>2000</td>\n    </tr>\n    <tr>\n      <th>1</th>\n      <td>2</td>\n      <td>Edgerrin James*</td>\n      <td>IND</td>\n      <td>RB</td>\n      <td>22</td>\n      <td>16</td>\n      <td>16</td>\n      <td>0</td>\n      <td>0</td>\n      <td>0</td>\n      <td>...</td>\n      <td>0.06</td>\n      <td>NaN</td>\n      <td>21.3</td>\n      <td>24.7</td>\n      <td>405.3</td>\n      <td>22.7</td>\n      <td>11.8</td>\n      <td>0.13</td>\n      <td>0.13</td>\n      <td>2000</td>\n    </tr>\n    <tr>\n      <th>2</th>\n      <td>3</td>\n      <td>Daunte Culpepper*</td>\n      <td>MIN</td>\n      <td>QB</td>\n      <td>23</td>\n      <td>16</td>\n      <td>16</td>\n      <td>18.6</td>\n      <td>29.6</td>\n      <td>246.1</td>\n      <td>...</td>\n      <td>NaN</td>\n      <td>0.13</td>\n      <td>21.9</td>\n      <td>21.2</td>\n      <td>366.5</td>\n      <td>22.2</td>\n      <td>9.31</td>\n      <td>0.06</td>\n      <td>0.19</td>\n      <td>2000</td>\n    </tr>\n    <tr>\n      <th>3</th>\n      <td>4</td>\n      <td>Jeff Garcia*</td>\n      <td>SFO</td>\n      <td>QB</td>\n      <td>30</td>\n      <td>16</td>\n      <td>16</td>\n      <td>22.2</td>\n      <td>35.1</td>\n      <td>267.4</td>\n      <td>...</td>\n      <td>NaN</td>\n      <td>0.06</td>\n      <td>21.4</td>\n      <td>21.3</td>\n      <td>357.5</td>\n      <td>21.9</td>\n      <td>8.81</td>\n      <td>0.13</td>\n      <td>0.25</td>\n      <td>2000</td>\n    </tr>\n    <tr>\n      <th>4</th>\n      <td>5</td>\n      <td>Eddie George*+</td>\n      <td>TEN</td>\n      <td>RB</td>\n      <td>27</td>\n      <td>16</td>\n      <td>16</td>\n      <td>0</td>\n      <td>0</td>\n      <td>0</td>\n      <td>...</td>\n      <td>NaN</td>\n      <td>NaN</td>\n      <td>18.3</td>\n      <td>20.9</td>\n      <td>344.2</td>\n      <td>19.3</td>\n      <td>8.75</td>\n      <td>0.19</td>\n      <td>0.31</td>\n      <td>2000</td>\n    </tr>\n  </tbody>\n</table>\n<p>5 rows × 34 columns</p>\n</div>"
     },
     "metadata": {},
     "execution_count": 4
    }
   ],
   "source": [
    "fantasy = combine_df(2000, 2019, \"fantasy\")\n",
    "fantasy.head()"
   ]
  },
  {
   "cell_type": "code",
   "execution_count": 5,
   "metadata": {},
   "outputs": [
    {
     "output_type": "stream",
     "name": "stdout",
     "text": "(9803, 44)\n"
    },
    {
     "output_type": "execute_result",
     "data": {
      "text/plain": "Index(['Player', 'Tm', 'Position', 'Age', 'G', 'GS', 'Pass_Comp_G',\n       'Pass_Att_G', 'Pass_Yds_G', 'Pass_TD_G', 'Pass_Int_G', 'RSH_Att_G',\n       'RSH_Yds_G', 'RSH_TD_G', 'REC_Tgt_G', 'REC_Rec_G', 'REC_Yds_G',\n       'REC_TD_G', 'REC_Fmb_G', 'REC_FL_G', 'Total_TD_G', 'FantPt_G', 'PPR_G',\n       'DKPt_G', 'FDPt_G', 'Year', 'REC_Tgt', 'REC_Rec', 'REC_Yds', 'REC_Y_R',\n       'REC_TD', 'REC_1D', 'REC_Ctch%', 'REC_T_Tgt', 'RSH_Att', 'RSH_Yds',\n       'RSH_TD', 'RSH_1D', 'RSH_Y_A', 'Total_Tch', 'Y_Tch', 'YScm', 'Total_TD',\n       'Fmb'],\n      dtype='object')"
     },
     "metadata": {},
     "execution_count": 5
    }
   ],
   "source": [
    "scrimmage = pd.read_csv(\"data_output/scrimmage_2000_2019.csv\", index_col=0)\n",
    "fantasy = pd.read_csv(\"data_output/fantasy_2000_2019.csv\", index_col=0)\n",
    "\n",
    "def clean_names(df):\n",
    "    name_list = []\n",
    "    for name in df[\"Player\"]:\n",
    "        if name == \"Mitch Trubisky\":\n",
    "            name = \"Mitchell Trubisky\"\n",
    "        name_adj = str(name).replace(\"*\", \"\").replace(\"+\", \"\").replace(\".\", \"\")\n",
    "        name_adj = name_adj.strip()\n",
    "        name_adj = re.sub(' +', ' ', name_adj)\n",
    "        name_split = name_adj.split()\n",
    "        for x in name_split:\n",
    "            if x.lower() in [\"iii\", \"ii\", \"iv\", \"v\", \"jr\"]:\n",
    "                name_split.remove(x)\n",
    "        name_adj = ' '.join(name_split)\n",
    "        name_list.append(name_adj)\n",
    "    df[\"Player\"] = name_list\n",
    "    return df\n",
    "\n",
    "\n",
    "def cleaning_raw_df(df):\n",
    "    #remove column headers in rows\n",
    "    df = df[[(x != \"Rk\") for x in df[\"Rk\"]]]\n",
    "\n",
    "    #remove name symbols\n",
    "    df = clean_names(df)\n",
    "\n",
    "    #fill na values with zero.\n",
    "    df = df.fillna(0)\n",
    "\n",
    "    return df\n",
    "\n",
    "def combine_fantasy_scrimmage(fantasy, scrimmage):\n",
    "    #apply clenaing columns and dropping\n",
    "    fantasy = cleaning_raw_df(fantasy)\n",
    "    fantasy = fantasy.drop(columns=[\"Rk\", \"REC_Y_R\", \"RSH_Y_A\", 'VBD_G', 'PosRank_G', 'OvRank_G', 'Total_2PM_G', 'Total_2PP_G'])\n",
    "    scrimmage = cleaning_raw_df(scrimmage)\n",
    "    scrimmage = scrimmage.drop(columns=[\"Rk\", \"Tm\", \"Age\", \"Pos\", \"G\", \"GS\", \"RSH_Y_G\", \"RSH_A_G\", \"REC_R_G\", \"REC_R_G.1\", \"RSH_Lng\", \"REC_Lng\"])\n",
    "\n",
    "    #merge df and convert values to floats / strings\n",
    "    combine = pd.merge(fantasy, scrimmage, how='outer', on=['Year', 'Player'])\n",
    "    num_df = combine.iloc[:,3:46]\n",
    "    num_df = num_df.apply(pd.to_numeric, errors='coerce')\n",
    "    str_df = combine.iloc[:,0:3].astype(str)\n",
    "    full_df = pd.concat([str_df, num_df], axis=1, sort=False)\n",
    "    full_df = full_df.dropna().reset_index(drop=True)\n",
    "    return full_df\n",
    "\n",
    "combine = combine_fantasy_scrimmage(fantasy, scrimmage)\n",
    "print(combine.shape)\n",
    "combine.columns"
   ]
  },
  {
   "cell_type": "code",
   "execution_count": 16,
   "metadata": {},
   "outputs": [
    {
     "output_type": "stream",
     "name": "stdout",
     "text": "(9709, 44)\n"
    },
    {
     "output_type": "execute_result",
     "data": {
      "text/plain": "Index(['Age', 'DKPt_G', 'FDPt_G', 'FantPt_G', 'Fmb', 'G', 'GS', 'PPR_G',\n       'Pass_Att_G', 'Pass_Comp_G', 'Pass_Int_G', 'Pass_TD_G', 'Pass_Yds_G',\n       'Player', 'Position', 'REC_1D', 'REC_Ctch%', 'REC_FL_G', 'REC_Fmb_G',\n       'REC_Rec', 'REC_Rec_G', 'REC_TD', 'REC_TD_G', 'REC_T_Tgt', 'REC_Tgt',\n       'REC_Tgt_G', 'REC_Y_R', 'REC_Yds', 'REC_Yds_G', 'RSH_1D', 'RSH_Att',\n       'RSH_Att_G', 'RSH_TD', 'RSH_TD_G', 'RSH_Y_A', 'RSH_Yds', 'RSH_Yds_G',\n       'Tm', 'Total_TD', 'Total_TD_G', 'Total_Tch', 'YScm', 'Y_Tch', 'Year'],\n      dtype='object')"
     },
     "metadata": {},
     "execution_count": 16
    }
   ],
   "source": [
    "def remove_duplicat_players(df):\n",
    "    df_split = df[[\"Player\", \"Year\"]]\n",
    "    df_split = df_split.loc[df_split.duplicated(keep=False)]\n",
    "    df_split = df_split.reset_index()\n",
    "    duplicate_list = df_split[\"index\"].tolist()\n",
    "    duplicate_df = df.ix[duplicate_list]\n",
    "    duplicate_df = duplicate_df.groupby([\"Player\", \"Year\"]).agg('max').reset_index(drop=True)\n",
    "\n",
    "    df = df.drop(df.index[duplicate_list])\n",
    "    df = pd.concat([df, duplicate_df])\n",
    "    df = df.reset_index(drop=True)\n",
    "\n",
    "    return df\n",
    "\n",
    "final_df = remove_duplicat_players(combine)\n",
    "feq_players = final_df[(final_df[\"G\"] >= 8) & ((final_df[\"FantPt_G\"] + final_df[\"PPR_G\"])/2 > 0.5) & (final_df[\"Position\"] != \"0\") & (final_df[\"Position\"] != 0)]\n",
    "feq_players.to_csv(\"data_output/0_years_stat_full.csv\")\n",
    "final_df.to_csv(\"data_output/stat_by_year.csv\")\n",
    "print(final_df.shape)\n",
    "final_df.columns"
   ]
  },
  {
   "cell_type": "code",
   "execution_count": 7,
   "metadata": {},
   "outputs": [
    {
     "output_type": "stream",
     "name": "stdout",
     "text": "Index(['Year', 'Player', 'Tm', 'Position', 'FantPt_G', 'PPR_G', 'DKPt_G',\n       'FDPt_G'],\n      dtype='object')\nIndex(['Year', 'Player', 'Tm', 'Age', 'G', 'GS', 'Pass_Att_G', 'Pass_Comp_G',\n       'Pass_Int_G', 'Pass_TD_G', 'Pass_Yds_G', 'REC_1D', 'REC_Ctch%',\n       'REC_FL_G', 'REC_Fmb_G', 'REC_Rec', 'REC_Rec_G', 'REC_TD', 'REC_TD_G',\n       'REC_T_Tgt', 'REC_Tgt', 'REC_Tgt_G', 'REC_Y_R', 'REC_Yds', 'REC_Yds_G',\n       'RSH_1D', 'RSH_Att', 'RSH_Att_G', 'RSH_TD', 'RSH_TD_G', 'RSH_Y_A',\n       'RSH_Yds', 'RSH_Yds_G', 'Total_TD', 'Total_TD_G', 'Total_Tch', 'YScm',\n       'Y_Tch'],\n      dtype='object')\n(7048, 8)\n(9709, 38)\n"
    },
    {
     "output_type": "execute_result",
     "data": {
      "text/plain": "        Year            Player   Tm   Age     G    GS  Pass_Att_G  \\\n0     2000.0    Marshall Faulk  STL  27.0  14.0  14.0         0.0   \n1     2000.0    Edgerrin James  IND  22.0  16.0  16.0         0.0   \n2     2000.0  Daunte Culpepper  MIN  23.0  16.0  16.0        29.6   \n3     2000.0       Jeff Garcia  SFO  30.0  16.0  16.0        35.1   \n4     2000.0      Eddie George  TEN  27.0  16.0  16.0         0.0   \n...      ...               ...  ...   ...   ...   ...         ...   \n9704     NaN               NaN  STL  33.0  16.0  16.0         0.0   \n9705     NaN               NaN  OAK  25.0  15.0  15.0         0.0   \n9706     NaN               NaN  OAK  26.0  15.0  15.0         0.0   \n9707     NaN               NaN  SEA  27.0  15.0  15.0         0.0   \n9708     NaN               NaN  SEA  30.0   3.0   3.0         0.0   \n\n      Pass_Comp_G  Pass_Int_G  Pass_TD_G  ...  RSH_TD  RSH_TD_G  RSH_Y_A  \\\n0             0.0        0.00       0.00  ...    18.0      1.29      5.4   \n1             0.0        0.00       0.00  ...    13.0      0.81      4.4   \n2            18.6        1.00       2.06  ...     7.0      0.44      5.3   \n3            22.2        0.63       1.94  ...     4.0      0.25      5.8   \n4             0.0        0.00       0.00  ...    14.0      0.88      3.7   \n...           ...         ...        ...  ...     ...       ...      ...   \n9704          0.0        0.00       0.00  ...     0.0      0.00      9.0   \n9705          0.0        0.00       0.00  ...     0.0      0.00      3.0   \n9706          0.0        0.00       0.00  ...     0.0      0.00      4.5   \n9707          0.0        0.00       0.00  ...     0.0      0.00      0.0   \n9708          0.0        0.00       0.00  ...     0.0      0.00      0.0   \n\n      RSH_Yds  RSH_Yds_G  Total_TD  Total_TD_G  Total_Tch    YScm  Y_Tch  \n0      1359.0      97.10      26.0        1.86      334.0  2189.0    6.6  \n1      1709.0     106.80      18.0        1.13      450.0  2303.0    5.1  \n2       470.0      29.40       7.0        0.44       89.0   470.0    5.3  \n3       414.0      25.90       4.0        0.25       72.0   414.0    5.8  \n4      1509.0      94.30      16.0        1.00      453.0  1962.0    4.3  \n...       ...        ...       ...         ...        ...     ...    ...  \n9704     27.0       1.69       4.0        0.25       76.0  1201.0   15.8  \n9705      3.0       0.21       3.0        0.20       66.0   805.0   12.2  \n9706      9.0       0.60       5.0        0.33       60.0   685.0   11.4  \n9707      0.0       0.00       1.0        0.25       25.0   233.0   10.5  \n9708      0.0       0.00       0.0        0.00        6.0    76.0   12.7  \n\n[9709 rows x 38 columns]",
      "text/html": "<div>\n<style scoped>\n    .dataframe tbody tr th:only-of-type {\n        vertical-align: middle;\n    }\n\n    .dataframe tbody tr th {\n        vertical-align: top;\n    }\n\n    .dataframe thead th {\n        text-align: right;\n    }\n</style>\n<table border=\"1\" class=\"dataframe\">\n  <thead>\n    <tr style=\"text-align: right;\">\n      <th></th>\n      <th>Year</th>\n      <th>Player</th>\n      <th>Tm</th>\n      <th>Age</th>\n      <th>G</th>\n      <th>GS</th>\n      <th>Pass_Att_G</th>\n      <th>Pass_Comp_G</th>\n      <th>Pass_Int_G</th>\n      <th>Pass_TD_G</th>\n      <th>...</th>\n      <th>RSH_TD</th>\n      <th>RSH_TD_G</th>\n      <th>RSH_Y_A</th>\n      <th>RSH_Yds</th>\n      <th>RSH_Yds_G</th>\n      <th>Total_TD</th>\n      <th>Total_TD_G</th>\n      <th>Total_Tch</th>\n      <th>YScm</th>\n      <th>Y_Tch</th>\n    </tr>\n  </thead>\n  <tbody>\n    <tr>\n      <th>0</th>\n      <td>2000.0</td>\n      <td>Marshall Faulk</td>\n      <td>STL</td>\n      <td>27.0</td>\n      <td>14.0</td>\n      <td>14.0</td>\n      <td>0.0</td>\n      <td>0.0</td>\n      <td>0.00</td>\n      <td>0.00</td>\n      <td>...</td>\n      <td>18.0</td>\n      <td>1.29</td>\n      <td>5.4</td>\n      <td>1359.0</td>\n      <td>97.10</td>\n      <td>26.0</td>\n      <td>1.86</td>\n      <td>334.0</td>\n      <td>2189.0</td>\n      <td>6.6</td>\n    </tr>\n    <tr>\n      <th>1</th>\n      <td>2000.0</td>\n      <td>Edgerrin James</td>\n      <td>IND</td>\n      <td>22.0</td>\n      <td>16.0</td>\n      <td>16.0</td>\n      <td>0.0</td>\n      <td>0.0</td>\n      <td>0.00</td>\n      <td>0.00</td>\n      <td>...</td>\n      <td>13.0</td>\n      <td>0.81</td>\n      <td>4.4</td>\n      <td>1709.0</td>\n      <td>106.80</td>\n      <td>18.0</td>\n      <td>1.13</td>\n      <td>450.0</td>\n      <td>2303.0</td>\n      <td>5.1</td>\n    </tr>\n    <tr>\n      <th>2</th>\n      <td>2000.0</td>\n      <td>Daunte Culpepper</td>\n      <td>MIN</td>\n      <td>23.0</td>\n      <td>16.0</td>\n      <td>16.0</td>\n      <td>29.6</td>\n      <td>18.6</td>\n      <td>1.00</td>\n      <td>2.06</td>\n      <td>...</td>\n      <td>7.0</td>\n      <td>0.44</td>\n      <td>5.3</td>\n      <td>470.0</td>\n      <td>29.40</td>\n      <td>7.0</td>\n      <td>0.44</td>\n      <td>89.0</td>\n      <td>470.0</td>\n      <td>5.3</td>\n    </tr>\n    <tr>\n      <th>3</th>\n      <td>2000.0</td>\n      <td>Jeff Garcia</td>\n      <td>SFO</td>\n      <td>30.0</td>\n      <td>16.0</td>\n      <td>16.0</td>\n      <td>35.1</td>\n      <td>22.2</td>\n      <td>0.63</td>\n      <td>1.94</td>\n      <td>...</td>\n      <td>4.0</td>\n      <td>0.25</td>\n      <td>5.8</td>\n      <td>414.0</td>\n      <td>25.90</td>\n      <td>4.0</td>\n      <td>0.25</td>\n      <td>72.0</td>\n      <td>414.0</td>\n      <td>5.8</td>\n    </tr>\n    <tr>\n      <th>4</th>\n      <td>2000.0</td>\n      <td>Eddie George</td>\n      <td>TEN</td>\n      <td>27.0</td>\n      <td>16.0</td>\n      <td>16.0</td>\n      <td>0.0</td>\n      <td>0.0</td>\n      <td>0.00</td>\n      <td>0.00</td>\n      <td>...</td>\n      <td>14.0</td>\n      <td>0.88</td>\n      <td>3.7</td>\n      <td>1509.0</td>\n      <td>94.30</td>\n      <td>16.0</td>\n      <td>1.00</td>\n      <td>453.0</td>\n      <td>1962.0</td>\n      <td>4.3</td>\n    </tr>\n    <tr>\n      <th>...</th>\n      <td>...</td>\n      <td>...</td>\n      <td>...</td>\n      <td>...</td>\n      <td>...</td>\n      <td>...</td>\n      <td>...</td>\n      <td>...</td>\n      <td>...</td>\n      <td>...</td>\n      <td>...</td>\n      <td>...</td>\n      <td>...</td>\n      <td>...</td>\n      <td>...</td>\n      <td>...</td>\n      <td>...</td>\n      <td>...</td>\n      <td>...</td>\n      <td>...</td>\n      <td>...</td>\n    </tr>\n    <tr>\n      <th>9704</th>\n      <td>NaN</td>\n      <td>NaN</td>\n      <td>STL</td>\n      <td>33.0</td>\n      <td>16.0</td>\n      <td>16.0</td>\n      <td>0.0</td>\n      <td>0.0</td>\n      <td>0.00</td>\n      <td>0.00</td>\n      <td>...</td>\n      <td>0.0</td>\n      <td>0.00</td>\n      <td>9.0</td>\n      <td>27.0</td>\n      <td>1.69</td>\n      <td>4.0</td>\n      <td>0.25</td>\n      <td>76.0</td>\n      <td>1201.0</td>\n      <td>15.8</td>\n    </tr>\n    <tr>\n      <th>9705</th>\n      <td>NaN</td>\n      <td>NaN</td>\n      <td>OAK</td>\n      <td>25.0</td>\n      <td>15.0</td>\n      <td>15.0</td>\n      <td>0.0</td>\n      <td>0.0</td>\n      <td>0.00</td>\n      <td>0.00</td>\n      <td>...</td>\n      <td>0.0</td>\n      <td>0.00</td>\n      <td>3.0</td>\n      <td>3.0</td>\n      <td>0.21</td>\n      <td>3.0</td>\n      <td>0.20</td>\n      <td>66.0</td>\n      <td>805.0</td>\n      <td>12.2</td>\n    </tr>\n    <tr>\n      <th>9706</th>\n      <td>NaN</td>\n      <td>NaN</td>\n      <td>OAK</td>\n      <td>26.0</td>\n      <td>15.0</td>\n      <td>15.0</td>\n      <td>0.0</td>\n      <td>0.0</td>\n      <td>0.00</td>\n      <td>0.00</td>\n      <td>...</td>\n      <td>0.0</td>\n      <td>0.00</td>\n      <td>4.5</td>\n      <td>9.0</td>\n      <td>0.60</td>\n      <td>5.0</td>\n      <td>0.33</td>\n      <td>60.0</td>\n      <td>685.0</td>\n      <td>11.4</td>\n    </tr>\n    <tr>\n      <th>9707</th>\n      <td>NaN</td>\n      <td>NaN</td>\n      <td>SEA</td>\n      <td>27.0</td>\n      <td>15.0</td>\n      <td>15.0</td>\n      <td>0.0</td>\n      <td>0.0</td>\n      <td>0.00</td>\n      <td>0.00</td>\n      <td>...</td>\n      <td>0.0</td>\n      <td>0.00</td>\n      <td>0.0</td>\n      <td>0.0</td>\n      <td>0.00</td>\n      <td>1.0</td>\n      <td>0.25</td>\n      <td>25.0</td>\n      <td>233.0</td>\n      <td>10.5</td>\n    </tr>\n    <tr>\n      <th>9708</th>\n      <td>NaN</td>\n      <td>NaN</td>\n      <td>SEA</td>\n      <td>30.0</td>\n      <td>3.0</td>\n      <td>3.0</td>\n      <td>0.0</td>\n      <td>0.0</td>\n      <td>0.00</td>\n      <td>0.00</td>\n      <td>...</td>\n      <td>0.0</td>\n      <td>0.00</td>\n      <td>0.0</td>\n      <td>0.0</td>\n      <td>0.00</td>\n      <td>0.0</td>\n      <td>0.00</td>\n      <td>6.0</td>\n      <td>76.0</td>\n      <td>12.7</td>\n    </tr>\n  </tbody>\n</table>\n<p>9709 rows × 38 columns</p>\n</div>"
     },
     "metadata": {},
     "execution_count": 7
    }
   ],
   "source": [
    "final_df = pd.read_csv(\"data_output/stat_by_year.csv\")\n",
    "\n",
    "def fantasy_stats_split(df):\n",
    "    base_split = df[[\"Year\", 'Player', 'Tm']]\n",
    "\n",
    "    fantasy_split = df[['Position', 'FantPt_G', 'PPR_G', 'DKPt_G', 'FDPt_G', \"G\"]]\n",
    "    fantasy_df = pd.concat([base_split, fantasy_split], axis=1, sort=False)\n",
    "    fantasy_df = fantasy_df[(fantasy_df[\"G\"] >= 8) & ((fantasy_df[\"FantPt_G\"] + fantasy_df[\"PPR_G\"])/2 > 0.5)]\n",
    "    fantasy_df = fantasy_df.drop(columns=\"G\")\n",
    "\n",
    "    hppr = list((df[\"FantPt_G\"] + df[\"PPR_G\"])/2)\n",
    "    hppr = pd.DataFrame(hppr, columns=[\"HPPR_G\"]).set_index(df.index[:])\n",
    "\n",
    "    stat_split = pd.concat([df[['Age', 'G', 'GS']], df.iloc[:,9:14], df.iloc[:,16:44]], axis=1, sort=False).drop(columns=[\"Tm\"])\n",
    "    stat_df = pd.concat([base_split, stat_split], axis=1, sort=False)\n",
    "    \n",
    "    return fantasy_df, stat_df\n",
    "\n",
    "fantasy_df, stat_df = fantasy_stats_split(final_df)\n",
    "print(fantasy_df.columns)\n",
    "print(stat_df.columns)\n",
    "print(fantasy_df.shape)\n",
    "print(stat_df.shape)\n",
    "stat_df"
   ]
  },
  {
   "cell_type": "code",
   "execution_count": 8,
   "metadata": {},
   "outputs": [
    {
     "output_type": "stream",
     "name": "stdout",
     "text": "['Year', 'Player', 'Tm', 'Position', 'FantPt_G', 'PPR_G', 'DKPt_G', 'FDPt_G', 'Tm-1', 'Age-1', 'G-1', 'GS-1', 'Pass_Att_G-1', 'Pass_Comp_G-1', 'Pass_Int_G-1', 'Pass_TD_G-1', 'Pass_Yds_G-1', 'REC_1D-1', 'REC_Ctch%-1', 'REC_FL_G-1', 'REC_Fmb_G-1', 'REC_Rec-1', 'REC_Rec_G-1', 'REC_TD-1', 'REC_TD_G-1', 'REC_T_Tgt-1', 'REC_Tgt-1', 'REC_Tgt_G-1', 'REC_Y_R-1', 'REC_Yds-1', 'REC_Yds_G-1', 'RSH_1D-1', 'RSH_Att-1', 'RSH_Att_G-1', 'RSH_TD-1', 'RSH_TD_G-1', 'RSH_Y_A-1', 'RSH_Yds-1', 'RSH_Yds_G-1', 'Total_TD-1', 'Total_TD_G-1', 'Total_Tch-1', 'YScm-1', 'Y_Tch-1', 'Tm-2', 'Age-2', 'G-2', 'GS-2', 'Pass_Att_G-2', 'Pass_Comp_G-2', 'Pass_Int_G-2', 'Pass_TD_G-2', 'Pass_Yds_G-2', 'REC_1D-2', 'REC_Ctch%-2', 'REC_FL_G-2', 'REC_Fmb_G-2', 'REC_Rec-2', 'REC_Rec_G-2', 'REC_TD-2', 'REC_TD_G-2', 'REC_T_Tgt-2', 'REC_Tgt-2', 'REC_Tgt_G-2', 'REC_Y_R-2', 'REC_Yds-2', 'REC_Yds_G-2', 'RSH_1D-2', 'RSH_Att-2', 'RSH_Att_G-2', 'RSH_TD-2', 'RSH_TD_G-2', 'RSH_Y_A-2', 'RSH_Yds-2', 'RSH_Yds_G-2', 'Total_TD-2', 'Total_TD_G-2', 'Total_Tch-2', 'YScm-2', 'Y_Tch-2', 'Tm-3', 'Age-3', 'G-3', 'GS-3', 'Pass_Att_G-3', 'Pass_Comp_G-3', 'Pass_Int_G-3', 'Pass_TD_G-3', 'Pass_Yds_G-3', 'REC_1D-3', 'REC_Ctch%-3', 'REC_FL_G-3', 'REC_Fmb_G-3', 'REC_Rec-3', 'REC_Rec_G-3', 'REC_TD-3', 'REC_TD_G-3', 'REC_T_Tgt-3', 'REC_Tgt-3', 'REC_Tgt_G-3', 'REC_Y_R-3', 'REC_Yds-3', 'REC_Yds_G-3', 'RSH_1D-3', 'RSH_Att-3', 'RSH_Att_G-3', 'RSH_TD-3', 'RSH_TD_G-3', 'RSH_Y_A-3', 'RSH_Yds-3', 'RSH_Yds_G-3', 'Total_TD-3', 'Total_TD_G-3', 'Total_Tch-3', 'YScm-3', 'Y_Tch-3']\n"
    },
    {
     "output_type": "execute_result",
     "data": {
      "text/plain": "     Year               Player   Tm Position  FantPt_G  PPR_G  DKPt_G  FDPt_G  \\\n0  2003.0  LaDainian Tomlinson  SDG       RB      26.7   30.1   488.1    28.3   \n2  2003.0       Peyton Manning  IND       QB      19.6   19.5   324.5    20.0   \n3  2003.0      Brian Westbrook  PHI       RB      17.2   22.0   338.6    19.5   \n4  2003.0      Marvin Harrison  IND       WR      13.2   18.9   305.6    15.9   \n5  2003.0          Tiki Barber  NYG       RB      15.2   18.7   305.7    16.9   \n\n   Tm-1  Age-1  ...  RSH_TD-3  RSH_TD_G-3  RSH_Y_A-3  RSH_Yds-3  RSH_Yds_G-3  \\\n0     1   24.0  ...       0.0        0.00        0.0        0.0         0.00   \n2     1   27.0  ...       1.0        0.06        3.1      116.0         7.25   \n3     1   24.0  ...       0.0        0.00        0.0        0.0         0.00   \n4     1   31.0  ...       0.0        0.00        0.0        0.0         0.00   \n5     1   28.0  ...       8.0        0.50        4.7     1006.0        62.90   \n\n   Total_TD-3  Total_TD_G-3  Total_Tch-3  YScm-3  Y_Tch-3  \n0         0.0          0.00          0.0     0.0      0.0  \n2         1.0          0.06         37.0   116.0      3.1  \n3         0.0          0.00          0.0     0.0      0.0  \n4        14.0          0.88        102.0  1413.0     13.9  \n5         9.0          0.56        283.0  1725.0      6.1  \n\n[5 rows x 116 columns]",
      "text/html": "<div>\n<style scoped>\n    .dataframe tbody tr th:only-of-type {\n        vertical-align: middle;\n    }\n\n    .dataframe tbody tr th {\n        vertical-align: top;\n    }\n\n    .dataframe thead th {\n        text-align: right;\n    }\n</style>\n<table border=\"1\" class=\"dataframe\">\n  <thead>\n    <tr style=\"text-align: right;\">\n      <th></th>\n      <th>Year</th>\n      <th>Player</th>\n      <th>Tm</th>\n      <th>Position</th>\n      <th>FantPt_G</th>\n      <th>PPR_G</th>\n      <th>DKPt_G</th>\n      <th>FDPt_G</th>\n      <th>Tm-1</th>\n      <th>Age-1</th>\n      <th>...</th>\n      <th>RSH_TD-3</th>\n      <th>RSH_TD_G-3</th>\n      <th>RSH_Y_A-3</th>\n      <th>RSH_Yds-3</th>\n      <th>RSH_Yds_G-3</th>\n      <th>Total_TD-3</th>\n      <th>Total_TD_G-3</th>\n      <th>Total_Tch-3</th>\n      <th>YScm-3</th>\n      <th>Y_Tch-3</th>\n    </tr>\n  </thead>\n  <tbody>\n    <tr>\n      <th>0</th>\n      <td>2003.0</td>\n      <td>LaDainian Tomlinson</td>\n      <td>SDG</td>\n      <td>RB</td>\n      <td>26.7</td>\n      <td>30.1</td>\n      <td>488.1</td>\n      <td>28.3</td>\n      <td>1</td>\n      <td>24.0</td>\n      <td>...</td>\n      <td>0.0</td>\n      <td>0.00</td>\n      <td>0.0</td>\n      <td>0.0</td>\n      <td>0.00</td>\n      <td>0.0</td>\n      <td>0.00</td>\n      <td>0.0</td>\n      <td>0.0</td>\n      <td>0.0</td>\n    </tr>\n    <tr>\n      <th>2</th>\n      <td>2003.0</td>\n      <td>Peyton Manning</td>\n      <td>IND</td>\n      <td>QB</td>\n      <td>19.6</td>\n      <td>19.5</td>\n      <td>324.5</td>\n      <td>20.0</td>\n      <td>1</td>\n      <td>27.0</td>\n      <td>...</td>\n      <td>1.0</td>\n      <td>0.06</td>\n      <td>3.1</td>\n      <td>116.0</td>\n      <td>7.25</td>\n      <td>1.0</td>\n      <td>0.06</td>\n      <td>37.0</td>\n      <td>116.0</td>\n      <td>3.1</td>\n    </tr>\n    <tr>\n      <th>3</th>\n      <td>2003.0</td>\n      <td>Brian Westbrook</td>\n      <td>PHI</td>\n      <td>RB</td>\n      <td>17.2</td>\n      <td>22.0</td>\n      <td>338.6</td>\n      <td>19.5</td>\n      <td>1</td>\n      <td>24.0</td>\n      <td>...</td>\n      <td>0.0</td>\n      <td>0.00</td>\n      <td>0.0</td>\n      <td>0.0</td>\n      <td>0.00</td>\n      <td>0.0</td>\n      <td>0.00</td>\n      <td>0.0</td>\n      <td>0.0</td>\n      <td>0.0</td>\n    </tr>\n    <tr>\n      <th>4</th>\n      <td>2003.0</td>\n      <td>Marvin Harrison</td>\n      <td>IND</td>\n      <td>WR</td>\n      <td>13.2</td>\n      <td>18.9</td>\n      <td>305.6</td>\n      <td>15.9</td>\n      <td>1</td>\n      <td>31.0</td>\n      <td>...</td>\n      <td>0.0</td>\n      <td>0.00</td>\n      <td>0.0</td>\n      <td>0.0</td>\n      <td>0.00</td>\n      <td>14.0</td>\n      <td>0.88</td>\n      <td>102.0</td>\n      <td>1413.0</td>\n      <td>13.9</td>\n    </tr>\n    <tr>\n      <th>5</th>\n      <td>2003.0</td>\n      <td>Tiki Barber</td>\n      <td>NYG</td>\n      <td>RB</td>\n      <td>15.2</td>\n      <td>18.7</td>\n      <td>305.7</td>\n      <td>16.9</td>\n      <td>1</td>\n      <td>28.0</td>\n      <td>...</td>\n      <td>8.0</td>\n      <td>0.50</td>\n      <td>4.7</td>\n      <td>1006.0</td>\n      <td>62.90</td>\n      <td>9.0</td>\n      <td>0.56</td>\n      <td>283.0</td>\n      <td>1725.0</td>\n      <td>6.1</td>\n    </tr>\n  </tbody>\n</table>\n<p>5 rows × 116 columns</p>\n</div>"
     },
     "metadata": {},
     "execution_count": 8
    }
   ],
   "source": [
    "def join_past_year_preformance(num_years_back, fantasy_df, stat_df, train_y_n):\n",
    "    n = 1\n",
    "    full_df = fantasy_df.copy()\n",
    "    if train_y_n == \"y\":\n",
    "        full_df = full_df[full_df[\"Year\"] >= min(full_df[\"Year\"]) + num_years_back]\n",
    "    while n <= num_years_back:\n",
    "        temp_stat = stat_df.copy()\n",
    "        temp_stat[\"Year\"] = temp_stat[\"Year\"] + n\n",
    "        suffix_temp = temp_stat.iloc[:,2:41]\n",
    "        suffix_temp = suffix_temp.add_suffix('-%s' % n)\n",
    "        year_name = temp_stat.iloc[:,0:2]\n",
    "        \n",
    "        temp_stat = pd.concat([year_name, suffix_temp], axis=1)\n",
    "        full_df = pd.merge(full_df, temp_stat, how='left', on=['Year', 'Player'])\n",
    "        \n",
    "        #check if they stayed on same team\n",
    "        full_df[('Tm-%s' % n)] = np.where(full_df[('Tm-%s' % n)] != full_df[\"Tm\"], 0, 1)\n",
    "        n += 1\n",
    "    return full_df\n",
    "\n",
    "def remove_rookies(full_df):\n",
    "    #remove rookies and fill blank years\n",
    "    full_df = full_df.dropna(thresh=20)\n",
    "    full_df = full_df.fillna(0)\n",
    "    full_df = full_df[(full_df[\"Position\"] != \"0\") &(full_df[\"Position\"] != 0)]\n",
    "\n",
    "    return full_df\n",
    "\n",
    "train = remove_rookies(join_past_year_preformance(3, fantasy_df, stat_df, \"y\"))\n",
    "print(list(train.columns))\n",
    "train.head()"
   ]
  },
  {
   "cell_type": "code",
   "execution_count": 9,
   "metadata": {},
   "outputs": [
    {
     "output_type": "execute_result",
     "data": {
      "text/plain": "    Tm    Year           Player Position  FantPt_G  PPR_G  DKPt_G  FDPt_G  \\\n0  2TM  2004.0   Antonio Bryant       WR      7.00  10.70   165.2    8.81   \n1  2TM  2004.0    Quincy Morgan       WR      4.07   5.98    93.7    4.95   \n2  2TM  2004.0       Jerry Rice       WR      3.59   5.35    93.9    4.46   \n3  2TM  2004.0  Jamal Robertson       RB      1.42   1.38    18.5    1.21   \n4  2TM  2004.0      Jamel White       RB      0.77   1.25    16.3    1.02   \n\n   Tm-1  Age-1  ...  RSH_TD-3  RSH_TD_G-3  RSH_Y_A-3  RSH_Yds-3  RSH_Yds_G-3  \\\n0     0   25.0  ...       0.0        0.00        0.0        0.0         0.00   \n1     0   29.0  ...       0.0        0.00       13.5       27.0         1.69   \n2     0    0.0  ...       0.0        0.00        0.0        0.0         0.00   \n3     0   29.0  ...       0.0        0.00        0.0        0.0         0.00   \n4     0    0.0  ...       5.0        0.31        3.5      443.0        27.70   \n\n   Total_TD-3  Total_TD_G-3  Total_Tch-3  YScm-3  Y_Tch-3  \n0         0.0          0.00          0.0     0.0      0.0  \n1         2.0          0.13         32.0   459.0     14.3  \n2         9.0          0.56         83.0  1139.0     13.7  \n3         0.0          0.00          0.0     0.0      0.0  \n4         6.0          0.38        170.0   861.0      5.1  \n\n[5 rows x 116 columns]",
      "text/html": "<div>\n<style scoped>\n    .dataframe tbody tr th:only-of-type {\n        vertical-align: middle;\n    }\n\n    .dataframe tbody tr th {\n        vertical-align: top;\n    }\n\n    .dataframe thead th {\n        text-align: right;\n    }\n</style>\n<table border=\"1\" class=\"dataframe\">\n  <thead>\n    <tr style=\"text-align: right;\">\n      <th></th>\n      <th>Tm</th>\n      <th>Year</th>\n      <th>Player</th>\n      <th>Position</th>\n      <th>FantPt_G</th>\n      <th>PPR_G</th>\n      <th>DKPt_G</th>\n      <th>FDPt_G</th>\n      <th>Tm-1</th>\n      <th>Age-1</th>\n      <th>...</th>\n      <th>RSH_TD-3</th>\n      <th>RSH_TD_G-3</th>\n      <th>RSH_Y_A-3</th>\n      <th>RSH_Yds-3</th>\n      <th>RSH_Yds_G-3</th>\n      <th>Total_TD-3</th>\n      <th>Total_TD_G-3</th>\n      <th>Total_Tch-3</th>\n      <th>YScm-3</th>\n      <th>Y_Tch-3</th>\n    </tr>\n  </thead>\n  <tbody>\n    <tr>\n      <th>0</th>\n      <td>2TM</td>\n      <td>2004.0</td>\n      <td>Antonio Bryant</td>\n      <td>WR</td>\n      <td>7.00</td>\n      <td>10.70</td>\n      <td>165.2</td>\n      <td>8.81</td>\n      <td>0</td>\n      <td>25.0</td>\n      <td>...</td>\n      <td>0.0</td>\n      <td>0.00</td>\n      <td>0.0</td>\n      <td>0.0</td>\n      <td>0.00</td>\n      <td>0.0</td>\n      <td>0.00</td>\n      <td>0.0</td>\n      <td>0.0</td>\n      <td>0.0</td>\n    </tr>\n    <tr>\n      <th>1</th>\n      <td>2TM</td>\n      <td>2004.0</td>\n      <td>Quincy Morgan</td>\n      <td>WR</td>\n      <td>4.07</td>\n      <td>5.98</td>\n      <td>93.7</td>\n      <td>4.95</td>\n      <td>0</td>\n      <td>29.0</td>\n      <td>...</td>\n      <td>0.0</td>\n      <td>0.00</td>\n      <td>13.5</td>\n      <td>27.0</td>\n      <td>1.69</td>\n      <td>2.0</td>\n      <td>0.13</td>\n      <td>32.0</td>\n      <td>459.0</td>\n      <td>14.3</td>\n    </tr>\n    <tr>\n      <th>2</th>\n      <td>2TM</td>\n      <td>2004.0</td>\n      <td>Jerry Rice</td>\n      <td>WR</td>\n      <td>3.59</td>\n      <td>5.35</td>\n      <td>93.9</td>\n      <td>4.46</td>\n      <td>0</td>\n      <td>0.0</td>\n      <td>...</td>\n      <td>0.0</td>\n      <td>0.00</td>\n      <td>0.0</td>\n      <td>0.0</td>\n      <td>0.00</td>\n      <td>9.0</td>\n      <td>0.56</td>\n      <td>83.0</td>\n      <td>1139.0</td>\n      <td>13.7</td>\n    </tr>\n    <tr>\n      <th>3</th>\n      <td>2TM</td>\n      <td>2004.0</td>\n      <td>Jamal Robertson</td>\n      <td>RB</td>\n      <td>1.42</td>\n      <td>1.38</td>\n      <td>18.5</td>\n      <td>1.21</td>\n      <td>0</td>\n      <td>29.0</td>\n      <td>...</td>\n      <td>0.0</td>\n      <td>0.00</td>\n      <td>0.0</td>\n      <td>0.0</td>\n      <td>0.00</td>\n      <td>0.0</td>\n      <td>0.00</td>\n      <td>0.0</td>\n      <td>0.0</td>\n      <td>0.0</td>\n    </tr>\n    <tr>\n      <th>4</th>\n      <td>2TM</td>\n      <td>2004.0</td>\n      <td>Jamel White</td>\n      <td>RB</td>\n      <td>0.77</td>\n      <td>1.25</td>\n      <td>16.3</td>\n      <td>1.02</td>\n      <td>0</td>\n      <td>0.0</td>\n      <td>...</td>\n      <td>5.0</td>\n      <td>0.31</td>\n      <td>3.5</td>\n      <td>443.0</td>\n      <td>27.70</td>\n      <td>6.0</td>\n      <td>0.38</td>\n      <td>170.0</td>\n      <td>861.0</td>\n      <td>5.1</td>\n    </tr>\n  </tbody>\n</table>\n<p>5 rows × 116 columns</p>\n</div>"
     },
     "metadata": {},
     "execution_count": 9
    }
   ],
   "source": [
    "team_convert = pd.read_csv(\"data_raw/team_convert.csv\")\n",
    "\n",
    "def reset_team_names(team_convert, df):\n",
    "    df = pd.merge(team_convert, df, how=\"right\", on=[\"Tm\"])\n",
    "    df = df.drop(columns=[\"Tm\"])\n",
    "    df = df.rename(columns = {'Team':'Tm'})\n",
    "    return df\n",
    "\n",
    "train = reset_team_names(team_convert, train)\n",
    "train.head()"
   ]
  },
  {
   "cell_type": "code",
   "execution_count": 10,
   "metadata": {},
   "outputs": [],
   "source": [
    "def x_y_train_to_csv(years, fantasy_df, stat_df, y_n):\n",
    "    train = join_past_year_preformance(years, fantasy_df, stat_df, y_n)\n",
    "    train = remove_rookies(train)\n",
    "\n",
    "    team_convert = pd.read_csv(\"data_raw/team_convert.csv\")\n",
    "    train = reset_team_names(team_convert, train)\n",
    "\n",
    "    train.to_csv(\"data_output/%s_years_stat_full.csv\" % years)\n",
    "\n",
    "    train_x = train.drop(columns = [\"FantPt_G\", \"PPR_G\", \"DKPt_G\", \"FDPt_G\"])\n",
    "    train_x.to_csv(\"data_output/%s_years_x.csv\" % years)\n",
    "\n",
    "    train_y = list((train[\"FantPt_G\"] + train[\"PPR_G\"])/2)\n",
    "    train_y = pd.DataFrame(train_y, columns=[\"HPPR_G\"])\n",
    "    train_y.to_csv(\"data_output/%s_years_y.csv\" % years)\n",
    "\n",
    "    return train, train_x, train_y\n",
    "\n",
    "x_y_train_to_csv(4, fantasy_df, stat_df, \"y\")\n",
    "x_y_train_to_csv(3, fantasy_df, stat_df, \"y\")\n",
    "train, train_x, train_y = x_y_train_to_csv(2, fantasy_df, stat_df, \"y\")"
   ]
  },
  {
   "cell_type": "code",
   "execution_count": 11,
   "metadata": {},
   "outputs": [
    {
     "output_type": "stream",
     "name": "stdout",
     "text": "(5121, 80)\n"
    },
    {
     "output_type": "execute_result",
     "data": {
      "text/plain": "    Tm    Year          Player Position  FantPt_G  PPR_G  DKPt_G  FDPt_G  \\\n0  2TM  2002.0   Kevin Johnson       WR      5.40   9.29   142.4    7.36   \n1  2TM  2002.0  Reggie Swinton       WR      0.92   2.34    33.1    1.97   \n2  2TM  2004.0  Antonio Bryant       WR      7.00  10.70   165.2    8.81   \n3  2TM  2004.0   Quincy Morgan       WR      4.07   5.98    93.7    4.95   \n4  2TM  2004.0      Jerry Rice       WR      3.59   5.35    93.9    4.46   \n\n   Tm-1  Age-1  ...  RSH_TD-2  RSH_TD_G-2  RSH_Y_A-2  RSH_Yds-2  RSH_Yds_G-2  \\\n0     0   25.0  ...       0.0         0.0        0.0        0.0         0.00   \n1     0   26.0  ...       0.0         0.0        0.0        0.0         0.00   \n2     0   25.0  ...       0.0         0.0        6.7       40.0         0.00   \n3     0   29.0  ...       0.0         0.0        2.3        7.0        -0.25   \n4     0    0.0  ...       0.0         0.0        6.7       20.0         0.00   \n\n   Total_TD-2  Total_TD_G-2  Total_Tch-2  YScm-2  Y_Tch-2  \n0         0.0          0.00         57.0   669.0     11.7  \n1         0.0          0.00          0.0     0.0      0.0  \n2         6.0          0.13         50.0   773.0     15.5  \n3         7.0          0.19         59.0   971.0     16.5  \n4         7.0          0.13         95.0  1231.0     13.0  \n\n[5 rows x 80 columns]",
      "text/html": "<div>\n<style scoped>\n    .dataframe tbody tr th:only-of-type {\n        vertical-align: middle;\n    }\n\n    .dataframe tbody tr th {\n        vertical-align: top;\n    }\n\n    .dataframe thead th {\n        text-align: right;\n    }\n</style>\n<table border=\"1\" class=\"dataframe\">\n  <thead>\n    <tr style=\"text-align: right;\">\n      <th></th>\n      <th>Tm</th>\n      <th>Year</th>\n      <th>Player</th>\n      <th>Position</th>\n      <th>FantPt_G</th>\n      <th>PPR_G</th>\n      <th>DKPt_G</th>\n      <th>FDPt_G</th>\n      <th>Tm-1</th>\n      <th>Age-1</th>\n      <th>...</th>\n      <th>RSH_TD-2</th>\n      <th>RSH_TD_G-2</th>\n      <th>RSH_Y_A-2</th>\n      <th>RSH_Yds-2</th>\n      <th>RSH_Yds_G-2</th>\n      <th>Total_TD-2</th>\n      <th>Total_TD_G-2</th>\n      <th>Total_Tch-2</th>\n      <th>YScm-2</th>\n      <th>Y_Tch-2</th>\n    </tr>\n  </thead>\n  <tbody>\n    <tr>\n      <th>0</th>\n      <td>2TM</td>\n      <td>2002.0</td>\n      <td>Kevin Johnson</td>\n      <td>WR</td>\n      <td>5.40</td>\n      <td>9.29</td>\n      <td>142.4</td>\n      <td>7.36</td>\n      <td>0</td>\n      <td>25.0</td>\n      <td>...</td>\n      <td>0.0</td>\n      <td>0.0</td>\n      <td>0.0</td>\n      <td>0.0</td>\n      <td>0.00</td>\n      <td>0.0</td>\n      <td>0.00</td>\n      <td>57.0</td>\n      <td>669.0</td>\n      <td>11.7</td>\n    </tr>\n    <tr>\n      <th>1</th>\n      <td>2TM</td>\n      <td>2002.0</td>\n      <td>Reggie Swinton</td>\n      <td>WR</td>\n      <td>0.92</td>\n      <td>2.34</td>\n      <td>33.1</td>\n      <td>1.97</td>\n      <td>0</td>\n      <td>26.0</td>\n      <td>...</td>\n      <td>0.0</td>\n      <td>0.0</td>\n      <td>0.0</td>\n      <td>0.0</td>\n      <td>0.00</td>\n      <td>0.0</td>\n      <td>0.00</td>\n      <td>0.0</td>\n      <td>0.0</td>\n      <td>0.0</td>\n    </tr>\n    <tr>\n      <th>2</th>\n      <td>2TM</td>\n      <td>2004.0</td>\n      <td>Antonio Bryant</td>\n      <td>WR</td>\n      <td>7.00</td>\n      <td>10.70</td>\n      <td>165.2</td>\n      <td>8.81</td>\n      <td>0</td>\n      <td>25.0</td>\n      <td>...</td>\n      <td>0.0</td>\n      <td>0.0</td>\n      <td>6.7</td>\n      <td>40.0</td>\n      <td>0.00</td>\n      <td>6.0</td>\n      <td>0.13</td>\n      <td>50.0</td>\n      <td>773.0</td>\n      <td>15.5</td>\n    </tr>\n    <tr>\n      <th>3</th>\n      <td>2TM</td>\n      <td>2004.0</td>\n      <td>Quincy Morgan</td>\n      <td>WR</td>\n      <td>4.07</td>\n      <td>5.98</td>\n      <td>93.7</td>\n      <td>4.95</td>\n      <td>0</td>\n      <td>29.0</td>\n      <td>...</td>\n      <td>0.0</td>\n      <td>0.0</td>\n      <td>2.3</td>\n      <td>7.0</td>\n      <td>-0.25</td>\n      <td>7.0</td>\n      <td>0.19</td>\n      <td>59.0</td>\n      <td>971.0</td>\n      <td>16.5</td>\n    </tr>\n    <tr>\n      <th>4</th>\n      <td>2TM</td>\n      <td>2004.0</td>\n      <td>Jerry Rice</td>\n      <td>WR</td>\n      <td>3.59</td>\n      <td>5.35</td>\n      <td>93.9</td>\n      <td>4.46</td>\n      <td>0</td>\n      <td>0.0</td>\n      <td>...</td>\n      <td>0.0</td>\n      <td>0.0</td>\n      <td>6.7</td>\n      <td>20.0</td>\n      <td>0.00</td>\n      <td>7.0</td>\n      <td>0.13</td>\n      <td>95.0</td>\n      <td>1231.0</td>\n      <td>13.0</td>\n    </tr>\n  </tbody>\n</table>\n<p>5 rows × 80 columns</p>\n</div>"
     },
     "metadata": {},
     "execution_count": 11
    }
   ],
   "source": [
    "print(train.shape)\n",
    "train.head()"
   ]
  },
  {
   "cell_type": "code",
   "execution_count": 12,
   "metadata": {},
   "outputs": [
    {
     "output_type": "stream",
     "name": "stdout",
     "text": "(5121, 76)\n"
    },
    {
     "output_type": "execute_result",
     "data": {
      "text/plain": "    Tm    Year          Player Position  Tm-1  Age-1   G-1  GS-1  \\\n0  2TM  2002.0   Kevin Johnson       WR     0   25.0  16.0  16.0   \n1  2TM  2002.0  Reggie Swinton       WR     0   26.0  15.0   1.0   \n2  2TM  2004.0  Antonio Bryant       WR     0   25.0  14.0  13.0   \n3  2TM  2004.0   Quincy Morgan       WR     0   29.0   7.0   0.0   \n4  2TM  2004.0      Jerry Rice       WR     0    0.0   0.0   0.0   \n\n   Pass_Att_G-1  Pass_Comp_G-1  ...  RSH_TD-2  RSH_TD_G-2  RSH_Y_A-2  \\\n0           0.0            0.0  ...       0.0         0.0        0.0   \n1           0.0            0.0  ...       0.0         0.0        0.0   \n2           0.0            0.0  ...       0.0         0.0        6.7   \n3           0.0            0.0  ...       0.0         0.0        2.3   \n4           0.0            0.0  ...       0.0         0.0        6.7   \n\n   RSH_Yds-2  RSH_Yds_G-2  Total_TD-2  Total_TD_G-2  Total_Tch-2  YScm-2  \\\n0        0.0         0.00         0.0          0.00         57.0   669.0   \n1        0.0         0.00         0.0          0.00          0.0     0.0   \n2       40.0         0.00         6.0          0.13         50.0   773.0   \n3        7.0        -0.25         7.0          0.19         59.0   971.0   \n4       20.0         0.00         7.0          0.13         95.0  1231.0   \n\n   Y_Tch-2  \n0     11.7  \n1      0.0  \n2     15.5  \n3     16.5  \n4     13.0  \n\n[5 rows x 76 columns]",
      "text/html": "<div>\n<style scoped>\n    .dataframe tbody tr th:only-of-type {\n        vertical-align: middle;\n    }\n\n    .dataframe tbody tr th {\n        vertical-align: top;\n    }\n\n    .dataframe thead th {\n        text-align: right;\n    }\n</style>\n<table border=\"1\" class=\"dataframe\">\n  <thead>\n    <tr style=\"text-align: right;\">\n      <th></th>\n      <th>Tm</th>\n      <th>Year</th>\n      <th>Player</th>\n      <th>Position</th>\n      <th>Tm-1</th>\n      <th>Age-1</th>\n      <th>G-1</th>\n      <th>GS-1</th>\n      <th>Pass_Att_G-1</th>\n      <th>Pass_Comp_G-1</th>\n      <th>...</th>\n      <th>RSH_TD-2</th>\n      <th>RSH_TD_G-2</th>\n      <th>RSH_Y_A-2</th>\n      <th>RSH_Yds-2</th>\n      <th>RSH_Yds_G-2</th>\n      <th>Total_TD-2</th>\n      <th>Total_TD_G-2</th>\n      <th>Total_Tch-2</th>\n      <th>YScm-2</th>\n      <th>Y_Tch-2</th>\n    </tr>\n  </thead>\n  <tbody>\n    <tr>\n      <th>0</th>\n      <td>2TM</td>\n      <td>2002.0</td>\n      <td>Kevin Johnson</td>\n      <td>WR</td>\n      <td>0</td>\n      <td>25.0</td>\n      <td>16.0</td>\n      <td>16.0</td>\n      <td>0.0</td>\n      <td>0.0</td>\n      <td>...</td>\n      <td>0.0</td>\n      <td>0.0</td>\n      <td>0.0</td>\n      <td>0.0</td>\n      <td>0.00</td>\n      <td>0.0</td>\n      <td>0.00</td>\n      <td>57.0</td>\n      <td>669.0</td>\n      <td>11.7</td>\n    </tr>\n    <tr>\n      <th>1</th>\n      <td>2TM</td>\n      <td>2002.0</td>\n      <td>Reggie Swinton</td>\n      <td>WR</td>\n      <td>0</td>\n      <td>26.0</td>\n      <td>15.0</td>\n      <td>1.0</td>\n      <td>0.0</td>\n      <td>0.0</td>\n      <td>...</td>\n      <td>0.0</td>\n      <td>0.0</td>\n      <td>0.0</td>\n      <td>0.0</td>\n      <td>0.00</td>\n      <td>0.0</td>\n      <td>0.00</td>\n      <td>0.0</td>\n      <td>0.0</td>\n      <td>0.0</td>\n    </tr>\n    <tr>\n      <th>2</th>\n      <td>2TM</td>\n      <td>2004.0</td>\n      <td>Antonio Bryant</td>\n      <td>WR</td>\n      <td>0</td>\n      <td>25.0</td>\n      <td>14.0</td>\n      <td>13.0</td>\n      <td>0.0</td>\n      <td>0.0</td>\n      <td>...</td>\n      <td>0.0</td>\n      <td>0.0</td>\n      <td>6.7</td>\n      <td>40.0</td>\n      <td>0.00</td>\n      <td>6.0</td>\n      <td>0.13</td>\n      <td>50.0</td>\n      <td>773.0</td>\n      <td>15.5</td>\n    </tr>\n    <tr>\n      <th>3</th>\n      <td>2TM</td>\n      <td>2004.0</td>\n      <td>Quincy Morgan</td>\n      <td>WR</td>\n      <td>0</td>\n      <td>29.0</td>\n      <td>7.0</td>\n      <td>0.0</td>\n      <td>0.0</td>\n      <td>0.0</td>\n      <td>...</td>\n      <td>0.0</td>\n      <td>0.0</td>\n      <td>2.3</td>\n      <td>7.0</td>\n      <td>-0.25</td>\n      <td>7.0</td>\n      <td>0.19</td>\n      <td>59.0</td>\n      <td>971.0</td>\n      <td>16.5</td>\n    </tr>\n    <tr>\n      <th>4</th>\n      <td>2TM</td>\n      <td>2004.0</td>\n      <td>Jerry Rice</td>\n      <td>WR</td>\n      <td>0</td>\n      <td>0.0</td>\n      <td>0.0</td>\n      <td>0.0</td>\n      <td>0.0</td>\n      <td>0.0</td>\n      <td>...</td>\n      <td>0.0</td>\n      <td>0.0</td>\n      <td>6.7</td>\n      <td>20.0</td>\n      <td>0.00</td>\n      <td>7.0</td>\n      <td>0.13</td>\n      <td>95.0</td>\n      <td>1231.0</td>\n      <td>13.0</td>\n    </tr>\n  </tbody>\n</table>\n<p>5 rows × 76 columns</p>\n</div>"
     },
     "metadata": {},
     "execution_count": 12
    }
   ],
   "source": [
    "print(train_x.shape)\n",
    "train_x.head()"
   ]
  },
  {
   "cell_type": "code",
   "execution_count": 13,
   "metadata": {},
   "outputs": [
    {
     "output_type": "stream",
     "name": "stdout",
     "text": "(5121, 1)\n"
    },
    {
     "output_type": "execute_result",
     "data": {
      "text/plain": "   HPPR_G\n0   7.345\n1   1.630\n2   8.850\n3   5.025\n4   4.470",
      "text/html": "<div>\n<style scoped>\n    .dataframe tbody tr th:only-of-type {\n        vertical-align: middle;\n    }\n\n    .dataframe tbody tr th {\n        vertical-align: top;\n    }\n\n    .dataframe thead th {\n        text-align: right;\n    }\n</style>\n<table border=\"1\" class=\"dataframe\">\n  <thead>\n    <tr style=\"text-align: right;\">\n      <th></th>\n      <th>HPPR_G</th>\n    </tr>\n  </thead>\n  <tbody>\n    <tr>\n      <th>0</th>\n      <td>7.345</td>\n    </tr>\n    <tr>\n      <th>1</th>\n      <td>1.630</td>\n    </tr>\n    <tr>\n      <th>2</th>\n      <td>8.850</td>\n    </tr>\n    <tr>\n      <th>3</th>\n      <td>5.025</td>\n    </tr>\n    <tr>\n      <th>4</th>\n      <td>4.470</td>\n    </tr>\n  </tbody>\n</table>\n</div>"
     },
     "metadata": {},
     "execution_count": 13
    }
   ],
   "source": [
    "print(train_y.shape)\n",
    "train_y.head()"
   ]
  },
  {
   "cell_type": "code",
   "execution_count": 14,
   "metadata": {},
   "outputs": [
    {
     "output_type": "execute_result",
     "data": {
      "text/plain": "    Tm  Year               Player Position\n0  CAR  2020  Christian McCaffrey       RB\n1  NYG  2020       Saquon Barkley       RB\n2   NO  2020       Michael Thomas       WR\n3  DAL  2020      Ezekiel Elliott       RB\n4  MIN  2020          Dalvin Cook       RB",
      "text/html": "<div>\n<style scoped>\n    .dataframe tbody tr th:only-of-type {\n        vertical-align: middle;\n    }\n\n    .dataframe tbody tr th {\n        vertical-align: top;\n    }\n\n    .dataframe thead th {\n        text-align: right;\n    }\n</style>\n<table border=\"1\" class=\"dataframe\">\n  <thead>\n    <tr style=\"text-align: right;\">\n      <th></th>\n      <th>Tm</th>\n      <th>Year</th>\n      <th>Player</th>\n      <th>Position</th>\n    </tr>\n  </thead>\n  <tbody>\n    <tr>\n      <th>0</th>\n      <td>CAR</td>\n      <td>2020</td>\n      <td>Christian McCaffrey</td>\n      <td>RB</td>\n    </tr>\n    <tr>\n      <th>1</th>\n      <td>NYG</td>\n      <td>2020</td>\n      <td>Saquon Barkley</td>\n      <td>RB</td>\n    </tr>\n    <tr>\n      <th>2</th>\n      <td>NO</td>\n      <td>2020</td>\n      <td>Michael Thomas</td>\n      <td>WR</td>\n    </tr>\n    <tr>\n      <th>3</th>\n      <td>DAL</td>\n      <td>2020</td>\n      <td>Ezekiel Elliott</td>\n      <td>RB</td>\n    </tr>\n    <tr>\n      <th>4</th>\n      <td>MIN</td>\n      <td>2020</td>\n      <td>Dalvin Cook</td>\n      <td>RB</td>\n    </tr>\n  </tbody>\n</table>\n</div>"
     },
     "metadata": {},
     "execution_count": 14
    }
   ],
   "source": [
    "stat_2020 = pd.read_csv(\"data_raw/FantasyPros_2020_Draft_Overall_Rankings.csv\")\n",
    "\n",
    "def player_team_pos(stat_2020):\n",
    "    stat_2020 = stat_2020[[\"Overall\", \"Team\", \"Pos\"]]\n",
    "    stat_2020 = stat_2020[stat_2020[\"Team\"] != \"FA\"]\n",
    "    stat_2020[\"Pos\"] = stat_2020[\"Pos\"].str.replace('\\d+', '')\n",
    "    stat_2020 = stat_2020[(stat_2020[\"Pos\"] != \"K\") & (stat_2020[\"Pos\"] != \"DST\")]\n",
    "    stat_2020[\"Year\"] = 2020\n",
    "    stat_2020 = stat_2020.rename(columns = {'Overall':'Player', 'Team':'Tm', \"Pos\":\"Position\"})\n",
    "    stat_2020 = clean_names(stat_2020)\n",
    "    stat_2020 = stat_2020[[\"Tm\", \"Year\", \"Player\", \"Position\"]]\n",
    "    return stat_2020\n",
    "\n",
    "test_2020 = player_team_pos(stat_2020)\n",
    "test_2020.head()"
   ]
  },
  {
   "cell_type": "code",
   "execution_count": 15,
   "metadata": {},
   "outputs": [
    {
     "output_type": "stream",
     "name": "stdout",
     "text": "(294, 76)\n"
    },
    {
     "output_type": "execute_result",
     "data": {
      "text/plain": "    Tm  Year               Player Position  Tm-1  Age-1   G-1  GS-1  \\\n0  CAR  2020  Christian McCaffrey       RB     1   23.0  16.0  16.0   \n1  NYG  2020       Saquon Barkley       RB     1   22.0  13.0  13.0   \n2   NO  2020       Michael Thomas       WR     0   26.0  16.0  15.0   \n3  DAL  2020      Ezekiel Elliott       RB     1   24.0  16.0  16.0   \n4  MIN  2020          Dalvin Cook       RB     1   24.0  14.0  14.0   \n\n   Pass_Att_G-1  Pass_Comp_G-1  ...  RSH_TD-2  RSH_TD_G-2  RSH_Y_A-2  \\\n0          0.13            0.0  ...       7.0        0.44        5.0   \n1          0.00            0.0  ...      11.0        0.69        5.0   \n2          0.00            0.0  ...       0.0        0.00        0.0   \n3          0.00            0.0  ...       6.0        0.40        4.7   \n4          0.00            0.0  ...       2.0        0.18        4.6   \n\n   RSH_Yds-2  RSH_Yds_G-2  Total_TD-2  Total_TD_G-2  Total_Tch-2  YScm-2  \\\n0     1098.0         68.6        13.0          0.81        326.0  1965.0   \n1     1307.0         81.7        15.0          0.94        352.0  2028.0   \n2        0.0          0.0         9.0          0.56        125.0  1405.0   \n3     1434.0         95.6         9.0          0.60        381.0  2001.0   \n4      615.0         55.9         4.0          0.36        173.0   920.0   \n\n   Y_Tch-2  \n0      6.0  \n1      5.8  \n2     11.2  \n3      5.3  \n4      5.3  \n\n[5 rows x 76 columns]",
      "text/html": "<div>\n<style scoped>\n    .dataframe tbody tr th:only-of-type {\n        vertical-align: middle;\n    }\n\n    .dataframe tbody tr th {\n        vertical-align: top;\n    }\n\n    .dataframe thead th {\n        text-align: right;\n    }\n</style>\n<table border=\"1\" class=\"dataframe\">\n  <thead>\n    <tr style=\"text-align: right;\">\n      <th></th>\n      <th>Tm</th>\n      <th>Year</th>\n      <th>Player</th>\n      <th>Position</th>\n      <th>Tm-1</th>\n      <th>Age-1</th>\n      <th>G-1</th>\n      <th>GS-1</th>\n      <th>Pass_Att_G-1</th>\n      <th>Pass_Comp_G-1</th>\n      <th>...</th>\n      <th>RSH_TD-2</th>\n      <th>RSH_TD_G-2</th>\n      <th>RSH_Y_A-2</th>\n      <th>RSH_Yds-2</th>\n      <th>RSH_Yds_G-2</th>\n      <th>Total_TD-2</th>\n      <th>Total_TD_G-2</th>\n      <th>Total_Tch-2</th>\n      <th>YScm-2</th>\n      <th>Y_Tch-2</th>\n    </tr>\n  </thead>\n  <tbody>\n    <tr>\n      <th>0</th>\n      <td>CAR</td>\n      <td>2020</td>\n      <td>Christian McCaffrey</td>\n      <td>RB</td>\n      <td>1</td>\n      <td>23.0</td>\n      <td>16.0</td>\n      <td>16.0</td>\n      <td>0.13</td>\n      <td>0.0</td>\n      <td>...</td>\n      <td>7.0</td>\n      <td>0.44</td>\n      <td>5.0</td>\n      <td>1098.0</td>\n      <td>68.6</td>\n      <td>13.0</td>\n      <td>0.81</td>\n      <td>326.0</td>\n      <td>1965.0</td>\n      <td>6.0</td>\n    </tr>\n    <tr>\n      <th>1</th>\n      <td>NYG</td>\n      <td>2020</td>\n      <td>Saquon Barkley</td>\n      <td>RB</td>\n      <td>1</td>\n      <td>22.0</td>\n      <td>13.0</td>\n      <td>13.0</td>\n      <td>0.00</td>\n      <td>0.0</td>\n      <td>...</td>\n      <td>11.0</td>\n      <td>0.69</td>\n      <td>5.0</td>\n      <td>1307.0</td>\n      <td>81.7</td>\n      <td>15.0</td>\n      <td>0.94</td>\n      <td>352.0</td>\n      <td>2028.0</td>\n      <td>5.8</td>\n    </tr>\n    <tr>\n      <th>2</th>\n      <td>NO</td>\n      <td>2020</td>\n      <td>Michael Thomas</td>\n      <td>WR</td>\n      <td>0</td>\n      <td>26.0</td>\n      <td>16.0</td>\n      <td>15.0</td>\n      <td>0.00</td>\n      <td>0.0</td>\n      <td>...</td>\n      <td>0.0</td>\n      <td>0.00</td>\n      <td>0.0</td>\n      <td>0.0</td>\n      <td>0.0</td>\n      <td>9.0</td>\n      <td>0.56</td>\n      <td>125.0</td>\n      <td>1405.0</td>\n      <td>11.2</td>\n    </tr>\n    <tr>\n      <th>3</th>\n      <td>DAL</td>\n      <td>2020</td>\n      <td>Ezekiel Elliott</td>\n      <td>RB</td>\n      <td>1</td>\n      <td>24.0</td>\n      <td>16.0</td>\n      <td>16.0</td>\n      <td>0.00</td>\n      <td>0.0</td>\n      <td>...</td>\n      <td>6.0</td>\n      <td>0.40</td>\n      <td>4.7</td>\n      <td>1434.0</td>\n      <td>95.6</td>\n      <td>9.0</td>\n      <td>0.60</td>\n      <td>381.0</td>\n      <td>2001.0</td>\n      <td>5.3</td>\n    </tr>\n    <tr>\n      <th>4</th>\n      <td>MIN</td>\n      <td>2020</td>\n      <td>Dalvin Cook</td>\n      <td>RB</td>\n      <td>1</td>\n      <td>24.0</td>\n      <td>14.0</td>\n      <td>14.0</td>\n      <td>0.00</td>\n      <td>0.0</td>\n      <td>...</td>\n      <td>2.0</td>\n      <td>0.18</td>\n      <td>4.6</td>\n      <td>615.0</td>\n      <td>55.9</td>\n      <td>4.0</td>\n      <td>0.36</td>\n      <td>173.0</td>\n      <td>920.0</td>\n      <td>5.3</td>\n    </tr>\n  </tbody>\n</table>\n<p>5 rows × 76 columns</p>\n</div>"
     },
     "metadata": {},
     "execution_count": 15
    }
   ],
   "source": [
    "test_2020 = join_past_year_preformance(2, test_2020, stat_df, \"n\")\n",
    "test_2020 = remove_rookies(test_2020)\n",
    "test_2020.to_csv(\"data_output/2020_x.csv\")\n",
    "print(test_2020.shape)\n",
    "test_2020.head()"
   ]
  },
  {
   "cell_type": "code",
   "execution_count": null,
   "metadata": {},
   "outputs": [],
   "source": []
  }
 ]
}